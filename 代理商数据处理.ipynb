{
 "cells": [
  {
   "cell_type": "code",
   "execution_count": 1,
   "metadata": {},
   "outputs": [
    {
     "data": {
      "text/plain": [
       "'/Users/jwn/Desktop/工作文件/代理商/数据处理'"
      ]
     },
     "execution_count": 1,
     "metadata": {},
     "output_type": "execute_result"
    }
   ],
   "source": [
    "pwd"
   ]
  },
  {
   "cell_type": "code",
   "execution_count": 1,
   "metadata": {},
   "outputs": [],
   "source": [
    "from process_funcs import *"
   ]
  },
  {
   "cell_type": "code",
   "execution_count": 2,
   "metadata": {},
   "outputs": [],
   "source": [
    "import pandas as pd\n",
    "import numpy as np"
   ]
  },
  {
   "cell_type": "code",
   "execution_count": 3,
   "metadata": {},
   "outputs": [],
   "source": [
    "df= read_agent_file(\"sent\",\"0901\",\"0802\",year_start=\"2016\",ext=\"csv\")\n"
   ]
  },
  {
   "cell_type": "code",
   "execution_count": 8,
   "metadata": {},
   "outputs": [
    {
     "data": {
      "text/plain": [
       "Index(['Unnamed: 0', '流转系统订单号', '订单创建时间', '代理商名称', '代理商订单号', '入网人姓名', '物流商',\n",
       "       '配送单号', '订单状态', '业务号码', '收货人', '联系电话', '商品名称', '开始时间', '结束时间', '渠道经理',\n",
       "       '产品类型'],\n",
       "      dtype='object')"
      ]
     },
     "execution_count": 8,
     "metadata": {},
     "output_type": "execute_result"
    }
   ],
   "source": [
    "df.columns"
   ]
  },
  {
   "cell_type": "code",
   "execution_count": 7,
   "metadata": {},
   "outputs": [
    {
     "data": {
      "text/plain": [
       "Index(['客户编号', '小区名称', '账户编号', '服务号码', '用户编号', '离网时间', '入网时间', '离网类型', '账户编码',\n",
       "       '当前状态开始时间', '用户状态', '用户在网时长（月）', '主卡用户编码', '副卡数', '合作渠道（发展代理商）',\n",
       "       '用户发展二级部门', '用户发展三级部门', '用户发展四级部门', '用户发展五级部门', '用户发展六级部门',\n",
       "       '用户发展六级部门.1', '本月收入(账单)(元)', '本月实际应收(总账)(元)', '本月是否出账(A口径)',\n",
       "       '最近第1月收入(总账)(元)', '最近第2月收入(总账)(元)', '最近第3月收入(总账)(元)', '最近第4月收入(总账)(元)',\n",
       "       '最近第5月收入(总账)(元)', '最近第6月收入(总账)(元)', '最近第7月收入(总账)(元)', '最近第8月收入(总账)(元)',\n",
       "       '最近第9月收入(总账)(元)', '最近第10月收入(总账)(元)', '最近第11月收入(总账)(元)',\n",
       "       '最近第12月收入(总账)(元)', '本月通话时长(分钟)', '最近第1月通话时长(分钟)', '最近第2月通话时长(分钟)',\n",
       "       '最近第3月通话时长(分钟)', '最近第4月通话时长(分钟)', '最近第5月通话时长(分钟)', '最近第6月通话时长(分钟)',\n",
       "       '最近第7月通话时长(分钟)', '最近第8月通话时长(分钟)', '最近第9月通话时长(分钟)', '最近第10月通话时长(分钟)',\n",
       "       '最近第11月通话时长(分钟)', '最近第12月通话时长(分钟)', '本月无线宽带总流量(KB)', '最近第1月无线宽带流量(KB)',\n",
       "       '最近第2月无线宽带流量(KB)', '最近第3月无线宽带流量(KB)', '最近第4月无线宽带流量(KB)',\n",
       "       '最近第5月无线宽带流量(KB)', '最近第6月无线宽带流量(KB)', '最近第7月无线宽带流量(KB)',\n",
       "       '最近第8月无线宽带流量(KB)', '最近第9月无线宽带流量(KB)', '最近第10月无线宽带流量(KB)',\n",
       "       '最近第11月无线宽带流量(KB)', '最近第12月无线宽带流量(KB)', '租机计划生效时间', '租机计划失效时间',\n",
       "       '租机计划订购时间', '主产品细类二级', '租机计划', '单产品销售品细类', '资费名称'],\n",
       "      dtype='object')"
      ]
     },
     "execution_count": 7,
     "metadata": {},
     "output_type": "execute_result"
    }
   ],
   "source": [
    "xf=pd.read_csv(\"dq/dq201711-201712-201807.csv\",low_memory=False)\n",
    "xf.columns"
   ]
  },
  {
   "cell_type": "code",
   "execution_count": 10,
   "metadata": {},
   "outputs": [],
   "source": [
    "cdf=df.loc[:,(\"代理商名称\",\"渠道经理\",\"产品类型\")]\n"
   ]
  },
  {
   "cell_type": "code",
   "execution_count": 11,
   "metadata": {},
   "outputs": [],
   "source": [
    "ccdf=cdf.set_index([\"渠道经理\",\"代理商名称\"])"
   ]
  },
  {
   "cell_type": "code",
   "execution_count": 12,
   "metadata": {},
   "outputs": [
    {
     "data": {
      "text/plain": [
       "array(['易捷讯', '济南八骏', '广州粤亮', '武汉营策', '盛丰伟业', '南京移宝', '落基伟业', '杭州久点久',\n",
       "       '广州易尊', '广盛鼎通', '中国邮电器材', '上海缘聚', '山东乐之卡', '华星中讯', '亚信科技', '北京乐卡',\n",
       "       '北京吉利创想', '北京捷康特光', '苏宁', '北京光迅互联', '北京京科通讯', '珠峰讯', '北京天拓数信',\n",
       "       '天恒信通'], dtype=object)"
      ]
     },
     "execution_count": 12,
     "metadata": {},
     "output_type": "execute_result"
    }
   ],
   "source": [
    "df[\"代理商名称\"].unique()\n"
   ]
  },
  {
   "cell_type": "code",
   "execution_count": 33,
   "metadata": {},
   "outputs": [
    {
     "data": {
      "text/plain": [
       "array([nan, '北京京东世纪信息技术有限公司(移动-渠道)', '济南八骏', '山东乐之卡电子科技有限公司(移动-渠道)',\n",
       "       '南京移宝网络科技有限责任公司(移动-渠道)', '上海缘聚合作厅(无)', '亚信科技（南京）有限公司(移动-渠道)',\n",
       "       '北京数成嘉业科技有限责任公司(移动-直销)', '深圳市盛丰伟业贸易有限公司(移动-渠道)',\n",
       "       '广州粤亮信息科技有限公司(移动-渠道)', '中国电信北京公司合作厅（易尊）(无)', '中国邮电器材北京公司电渠合作(无)',\n",
       "       '杭州久点久电子商务有限公司(移动-渠道)', '北京华星中讯科技有限公司(移动-渠道)', '上海圆迈贸易有限公司(移动-渠道)',\n",
       "       '电子渠道部(无)', '盛通创新（电渠专用）(移动-渠道)', '北京星球通科技发展有限公司电渠网厅(移动-渠道)',\n",
       "       '北京电信专项厅（亚信科技）(无)', '上海缘聚网络科技有限公司(移动-渠道)', '北京电信合作厅（宏巍）(无)',\n",
       "       '北京广盛鼎通通信科技有限公司(移动-渠道)', '集团国美-JTGL(无)', '北京移动端旗舰店(无)',\n",
       "       '北京网上营业厅(无)', '北京世纪卓越信息技术有限公司(移动-渠道)'], dtype=object)"
      ]
     },
     "execution_count": 33,
     "metadata": {},
     "output_type": "execute_result"
    }
   ],
   "source": [
    "xf[\"合作渠道（发展代理商）\"].unique()"
   ]
  },
  {
   "cell_type": "code",
   "execution_count": 51,
   "metadata": {},
   "outputs": [
    {
     "name": "stdout",
     "output_type": "stream",
     "text": [
      "高 <class 'str'> 易捷讯\n",
      "陈 <class 'str'> 易捷讯\n",
      "张 <class 'str'> 易捷讯\n",
      "张 <class 'str'> 济南八骏\n",
      "张 <class 'str'> 济南八骏\n"
     ]
    }
   ],
   "source": [
    "for dk,dv in df.head().iterrows():\n",
    "    dname = dv[\"入网人姓名\"]\n",
    "    dmobile = str(dv[\"业务号码\"])\n",
    "    dagent = dv[\"代理商名称\"]\n",
    "    print(dname[0],type(dmobile),dagent)\n",
    "    for xk,xv in xf.iterrows():\n",
    "        #xname = xv[\"入网人姓名\"]\n",
    "        xmobile = str(xv[\"服务号码\"])\n",
    "        if len(xmobile)<11:\n",
    "            continue\n",
    "        xagent = xv[\"合作渠道（发展代理商）\"]\n",
    "        try:\n",
    "            if xmobile[:3] in dmobile and xmobile[7:] in dmobile and dagent in xagent:\n",
    "                print(dmobile,xmobile,dagent,xagent)\n",
    "        except:\n",
    "            continue"
   ]
  },
  {
   "cell_type": "code",
   "execution_count": 24,
   "metadata": {},
   "outputs": [],
   "source": [
    "xf_head = xf.head()"
   ]
  },
  {
   "cell_type": "code",
   "execution_count": 35,
   "metadata": {},
   "outputs": [
    {
     "data": {
      "text/plain": [
       "0    153****7851\n",
       "1      B24132660\n",
       "2      B91193951\n",
       "3      C43354143\n",
       "4    177****4482\n",
       "Name: 服务号码, dtype: object"
      ]
     },
     "execution_count": 35,
     "metadata": {},
     "output_type": "execute_result"
    }
   ],
   "source": [
    "xf_head[\"服务号码\"]"
   ]
  },
  {
   "cell_type": "code",
   "execution_count": null,
   "metadata": {},
   "outputs": [],
   "source": []
  }
 ],
 "metadata": {
  "kernelspec": {
   "display_name": "Python 3",
   "language": "python",
   "name": "python3"
  },
  "language_info": {
   "codemirror_mode": {
    "name": "ipython",
    "version": 3
   },
   "file_extension": ".py",
   "mimetype": "text/x-python",
   "name": "python",
   "nbconvert_exporter": "python",
   "pygments_lexer": "ipython3",
   "version": "3.5.2"
  }
 },
 "nbformat": 4,
 "nbformat_minor": 2
}
